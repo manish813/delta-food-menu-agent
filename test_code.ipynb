{
 "cells": [
  {
   "metadata": {
    "ExecuteTime": {
     "end_time": "2025-09-08T02:56:00.830396Z",
     "start_time": "2025-09-08T02:55:56.936272Z"
    }
   },
   "cell_type": "code",
   "source": [
    "import asyncio\n",
    "from datetime import date\n",
    "from src.client.delta_client import DeltaMenuClient\n",
    "from src.models.requests import MenuQueryRequest\n",
    "\n",
    "# Test get_menu_by_flight function\n",
    "async def test_menu_query():\n",
    "    client = DeltaMenuClient()\n",
    "    \n",
    "    request = MenuQueryRequest(\n",
    "        departure_date=date(2025, 9, 15),\n",
    "        flight_number=30,\n",
    "        departure_airport='ATL',\n",
    "        operating_carrier='DL'\n",
    "    )\n",
    "    \n",
    "    result = await client.get_menu_by_flight(request)\n",
    "    \n",
    "    print(f\"Success: {result.success}\")\n",
    "\n",
    "    if result.success and result.menu_services:\n",
    "        print(result)\n",
    "    else:\n",
    "        print(f\"Error: {result.error_message}\")\n",
    "\n",
    "# Run the test\n",
    "await test_menu_query()"
   ],
   "id": "962db091117e3ce5",
   "outputs": [],
   "execution_count": null
  },
  {
   "metadata": {
    "ExecuteTime": {
     "end_time": "2025-09-23T07:02:25.569307Z",
     "start_time": "2025-09-23T07:02:14.883556Z"
    }
   },
   "cell_type": "code",
   "source": [
    "# Test lookup_flights function\n",
    "import os\n",
    "from dotenv import load_dotenv\n",
    "from src.models.requests import FlightLookupRequest\n",
    "from datetime import date\n",
    "\n",
    "# Load environment variables BEFORE importing DeltaMenuClient\n",
    "load_dotenv(override=True)\n",
    "\n",
    "from src.client.delta_client import DeltaMenuClient\n",
    "\n",
    "async def test_flight_lookup():\n",
    "    # Debug: Check if credentials are loaded\n",
    "    print(f\"Oracle Username: {os.getenv('ORACLE_USERNAME', 'NOT_FOUND')}\")\n",
    "    print(f\"Oracle Password: {'SET' if os.getenv('ORACLE_PASSWORD') else 'NOT_FOUND'}\")\n",
    "\n",
    "    client = DeltaMenuClient()\n",
    "    \n",
    "    request = FlightLookupRequest(\n",
    "        departure_date=date(2025, 9, 30),\n",
    "        departure_airport='ATL',\n",
    "        arrival_airport='LHR',\n",
    "        operating_carrier='DL'\n",
    "    )\n",
    "    \n",
    "    result = await client.lookup_flights(request)\n",
    "    \n",
    "    print(f'\\nFlight Lookup Test:')\n",
    "    print(f'Success: {result.success}')\n",
    "    print(f'Route: {result.departure_airport} -> {result.arrival_airport}')\n",
    "    print(f'Date: {result.departure_date}')\n",
    "    \n",
    "    if result.success and result.flights:\n",
    "        print(f'Found {len(result.flights)} flights:')\n",
    "        for flight in result.flights:\n",
    "            print(f'  DL{flight.flight_number}: {flight.departure_time} -> {flight.arrival_time}')\n",
    "    else:\n",
    "        print(f'Error: {result.error_message}')\n",
    "    \n",
    "    await client.close()\n",
    "\n",
    "# Run flight lookup test\n",
    "await test_flight_lookup()"
   ],
   "id": "flight_lookup_test",
   "outputs": [
    {
     "name": "stderr",
     "output_type": "stream",
     "text": [
      "2025-09-23 12:32:14,897 - src.client.delta_client - __init__ - INFO - Initializing DeltaMenuClient\n"
     ]
    },
    {
     "name": "stdout",
     "output_type": "stream",
     "text": [
      "Oracle Username: 940985\n",
      "Oracle Password: SET\n"
     ]
    },
    {
     "name": "stderr",
     "output_type": "stream",
     "text": [
      "2025-09-23 12:32:16,946 - src.client.delta_client - lookup_flights - INFO - Looking up flights from ATL to LHR on 2025-09-30\n",
      "2025-09-23 12:32:23,864 - src.database.flight_repository - lookup_flights - INFO - Querying flights: ATL to LHR on 2025-09-30\n",
      "2025-09-23 12:32:24,673 - src.client.delta_client - close - INFO - Closing DeltaMenuClient\n"
     ]
    },
    {
     "name": "stdout",
     "output_type": "stream",
     "text": [
      "\n",
      "Flight Lookup Test:\n",
      "Success: True\n",
      "Route: ATL -> LHR\n",
      "Date: 2025-09-30\n",
      "Found 3 flights:\n",
      "  DL30: 21:25 -> 05:45\n",
      "  DL32: 01:55 -> 10:10\n",
      "  DL36: 03:59 -> 12:30\n"
     ]
    }
   ],
   "execution_count": 2
  },
  {
   "metadata": {
    "ExecuteTime": {
     "end_time": "2025-09-05T06:28:30.900107Z",
     "start_time": "2025-09-05T06:28:27.376784Z"
    }
   },
   "cell_type": "code",
   "source": [
    "# Test check_menu_availability function\n",
    "from src.models.menu import FlightLeg\n",
    "from datetime import date\n",
    "from src.client.delta_client import DeltaMenuClient\n",
    "from src.models.requests import MenuQueryRequest\n",
    "\n",
    "async def test_menu_availability():\n",
    "    client = DeltaMenuClient()\n",
    "    \n",
    "    flight_legs = [\n",
    "        FlightLeg(\n",
    "            operating_carrier_code='DL',\n",
    "            flight_num=30,\n",
    "            flight_departure_airport_code='ATL',\n",
    "            departure_local_date='2025-08-26'\n",
    "        )\n",
    "    ]\n",
    "    \n",
    "    result = await client.check_menu_availability(flight_legs)\n",
    "    \n",
    "    print(f\"Success: {result.success}\")\n",
    "    if result.success:\n",
    "        print(result)\n",
    "    else:\n",
    "        print(f\"Error: {result.error_message}\")\n",
    "\n",
    "# Run the test\n",
    "await test_menu_availability()"
   ],
   "id": "66fe16d77dca444b",
   "outputs": [],
   "execution_count": null
  }
 ],
 "metadata": {
  "kernelspec": {
   "display_name": "Python 3",
   "language": "python",
   "name": "python3"
  },
  "language_info": {
   "codemirror_mode": {
    "name": "ipython",
    "version": 2
   },
   "file_extension": ".py",
   "mimetype": "text/x-python",
   "name": "python",
   "nbconvert_exporter": "python",
   "pygments_lexer": "ipython2",
   "version": "2.7.6"
  }
 },
 "nbformat": 4,
 "nbformat_minor": 5
}
